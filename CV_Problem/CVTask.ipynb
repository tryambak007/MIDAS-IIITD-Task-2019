{
  "nbformat": 4,
  "nbformat_minor": 0,
  "metadata": {
    "colab": {
      "name": "CVTask.ipynb",
      "version": "0.3.2",
      "provenance": []
    },
    "kernelspec": {
      "name": "python3",
      "display_name": "Python 3"
    }
  },
  "cells": [
    {
      "metadata": {
        "id": "5aaIjELtEfTn",
        "colab_type": "text"
      },
      "cell_type": "markdown",
      "source": [
        "** File Reading **\n",
        "\n",
        "Here in this notebook, I have illustrated the steps to build a model to classify a image dataset into 4 different classes.\n",
        "\n",
        "It is observed that the dataset files is in **.pkl** format. Thus we need to import pickle library of python and fetch the data from the files. "
      ]
    },
    {
      "metadata": {
        "id": "pMj9xhmkNgaP",
        "colab_type": "code",
        "colab": {}
      },
      "cell_type": "code",
      "source": [
        "import pickle\n",
        "with open('train_image.pkl', 'rb') as f:\n",
        "    train_X = pickle.load(f)                        # train_X stores the raw image data obtained from train_image.pkl file\n",
        "with open('train_label.pkl', 'rb') as f:\n",
        "    train_Y = pickle.load(f)                        # train_Y stores the image labels of training set obtained from train_label.pkl file\n",
        "with open('test_image.pkl', 'rb') as f:\n",
        "    test_X = pickle.load(f)                         # test_X stores the raw image data of test set obtained from test_image.pkl file"
      ],
      "execution_count": 0,
      "outputs": []
    },
    {
      "metadata": {
        "id": "js7Mbz2UNqDb",
        "colab_type": "text"
      },
      "cell_type": "markdown",
      "source": [
        "**Importing Required Libraries**\n",
        "\n",
        "Next, I will be importing all necessary packages for creating a network and preprocessing. I will be using a CNN to classify the images into various classes. The requirement of imported libraries are as follows: \n",
        "\n",
        "1.   **Keras** : For building the model.\n",
        "2.   **Scikit Learn** : For spliting the dataset into training and validation set.\n",
        "3.   **NumPy** : For handling image matrices.\n",
        "4. **Pandas** : For handling csv files.\n",
        "5. **MatPlotLib** : For displaying some images. \n",
        "\n"
      ]
    },
    {
      "metadata": {
        "id": "VZFIbQQWN2gL",
        "colab_type": "code",
        "colab": {}
      },
      "cell_type": "code",
      "source": [
        "import numpy as np\n",
        "import pandas as pd\n",
        "import matplotlib.pyplot as plt\n",
        "import keras\n",
        "from keras.models import Sequential\n",
        "from keras.layers import Dense, Dropout, Flatten\n",
        "from keras.layers import Conv2D, MaxPooling2D\n",
        "from keras.utils import to_categorical\n",
        "from keras.preprocessing import image\n",
        "from sklearn.model_selection import train_test_split\n",
        "from keras.preprocessing.image import ImageDataGenerator"
      ],
      "execution_count": 0,
      "outputs": []
    },
    {
      "metadata": {
        "id": "_d_KeTywPGwr",
        "colab_type": "text"
      },
      "cell_type": "markdown",
      "source": [
        "**Preprocessing Steps**\n",
        "\n",
        "We will have to convert the raw image and label data into NumPy arrays. Also, we shall be display one of the pictures from the training dataset."
      ]
    },
    {
      "metadata": {
        "id": "yFCt_JRZWHUD",
        "colab_type": "code",
        "outputId": "b611a5db-551b-4293-a1d1-69847ead28a9",
        "colab": {
          "base_uri": "https://localhost:8080/",
          "height": 303
        }
      },
      "cell_type": "code",
      "source": [
        "X_orig = np.asarray(train_X, dtype=None, order=None) # Conversion into numpy array\n",
        "Y_orig = np.asarray(train_Y, dtype=None, order=None) # Conversion into numpy array\n",
        "print(X_orig.shape)\n",
        "t = X_orig[6119].reshape(28,28)\n",
        "plt.imshow(t, cmap=\"gray\")"
      ],
      "execution_count": 55,
      "outputs": [
        {
          "output_type": "stream",
          "text": [
            "(8000, 784)\n"
          ],
          "name": "stdout"
        },
        {
          "output_type": "execute_result",
          "data": {
            "text/plain": [
              "<matplotlib.image.AxesImage at 0x7f9ff92d7dd8>"
            ]
          },
          "metadata": {
            "tags": []
          },
          "execution_count": 55
        },
        {
          "output_type": "display_data",
          "data": {
            "image/png": "[encoded data removed]",
            "text/plain": [
              "<Figure size 432x288 with 1 Axes>"
            ]
          },
          "metadata": {
            "tags": []
          }
        }
      ]
    },
    {
      "metadata": {
        "id": "40GMTaDQEEs2",
        "colab_type": "text"
      },
      "cell_type": "markdown",
      "source": [
        "The following block does quite a few things. \n",
        "* Firstly, it converts each of the training example from a vector to 28x28x1 matrix which is required by the convolutional layer of the network as an input. Also, each of the image pixel values are rescaled by dividing by 255. \n",
        "* Secondly, it alters the labels. In order to use \"categorical crossentropy\" loss for multiclass classification, the labels should be in the form of a matrix of size (number of examples, number of classes).  This is done by *to_categorical* method. The number of classes is automatically determined by the maximum value of the label. In this case, since the labels take the values 0, 2, 3 and 6 even though only 4 classes are present. Hence label values are altered in the following way : 0 -> 0 ; 2 -> 1, 3 -> 2, 6 -> 4.\n",
        "* Finally, the training set and its labels are split into training and validation set. The validation set is made  of 20% of the training set. Scikit-learn function *train_test_split* is used for this purpose.\n",
        "\n",
        "\n",
        "\n",
        "\n",
        "\n"
      ]
    },
    {
      "metadata": {
        "id": "MPE6uezhO4IY",
        "colab_type": "code",
        "outputId": "3601e51e-3b71-4ab5-8756-93dd2e96d40c",
        "colab": {
          "base_uri": "https://localhost:8080/",
          "height": 102
        }
      },
      "cell_type": "code",
      "source": [
        "train_image = []\n",
        "for i in range(X_orig.shape[0]):                                                             # loop for altering image data\n",
        "  img = X_orig[i].reshape(28,28,1)\n",
        "  img = img / 255;\n",
        "  train_image.append(img)\n",
        "X1 = np.array(train_image)\n",
        "for i in range(Y_orig.shape[0]):                                                             # loop for altering labels\n",
        "  if Y_orig[i] == 2:\n",
        "    Y_orig[i] = 1\n",
        "  elif Y_orig[i] == 3:\n",
        "    Y_orig[i] = 2\n",
        "  elif Y_orig[i] == 6:\n",
        "    Y_orig[i] = 3\n",
        "Y1 = to_categorical(Y_orig,num_classes=4)\n",
        "X_train, X_test, y_train, y_test = train_test_split(X1, Y1, random_state=42, test_size=0.2)   # split into training and validation set\n",
        "print(X_train.shape)\n",
        "print(X_test.shape)\n",
        "print(y_train.shape)\n",
        "print(y_test.shape)\n",
        "print(y_train[1090])"
      ],
      "execution_count": 56,
      "outputs": [
        {
          "output_type": "stream",
          "text": [
            "(6400, 28, 28, 1)\n",
            "(1600, 28, 28, 1)\n",
            "(6400, 4)\n",
            "(1600, 4)\n",
            "[0. 1. 0. 0.]\n"
          ],
          "name": "stdout"
        }
      ]
    },
    {
      "metadata": {
        "id": "uSmm3hEkHlUq",
        "colab_type": "text"
      },
      "cell_type": "markdown",
      "source": [
        "** Network Creation **\n",
        "\n",
        "Now, the model needs to be defined. For this case, I will be using a Convolutional Neural Network."
      ]
    },
    {
      "metadata": {
        "id": "J1Upka9YQ8km",
        "colab_type": "code",
        "colab": {}
      },
      "cell_type": "code",
      "source": [
        "def generate_network():\n",
        "  model = Sequential()                                                                 # make a sequential model\n",
        "  model.add(Conv2D(32, kernel_size=(3, 3),activation='relu',input_shape=(28,28,1)))    # add a convolutional layer\n",
        "  model.add(Conv2D(64, (3, 3), activation='relu'))                                    \n",
        "  model.add(MaxPooling2D(pool_size=(2, 2)))                                            # add maxpooling layer\n",
        "  model.add(Dropout(0.25))                                                             # set regularization type to dropout to prevent overfitting with drop probability 25%\n",
        "  model.add(Flatten())                                                                 # changes input from matrix to vectors for feeding it into dense layers\n",
        "  model.add(Dense(128, activation='relu'))                                             # add a dense layer\n",
        "  model.add(Dropout(0.5))                                                              # set dropout probability of layer to 50%\n",
        "  model.add(Dense(4, activation='softmax'))                                            # add dense layer\n",
        "  model.compile(loss='categorical_crossentropy',optimizer='Adam',metrics=['accuracy']) # set loss function as categorical crossentropy \n",
        "  return model"
      ],
      "execution_count": 0,
      "outputs": []
    },
    {
      "metadata": {
        "id": "7lXJhxnMhQ-J",
        "colab_type": "text"
      },
      "cell_type": "markdown",
      "source": [
        "** Training the Network **\n",
        "\n",
        "The following block trains the network on the training data and validates it over validation set."
      ]
    },
    {
      "metadata": {
        "id": "txQHpG2wRQne",
        "colab_type": "code",
        "outputId": "9c4b9275-db46-4bb3-fdfa-b4b81c54a0fd",
        "colab": {
          "base_uri": "https://localhost:8080/",
          "height": 581
        }
      },
      "cell_type": "code",
      "source": [
        "model  = generate_network()\n",
        "model.fit(X_train, y_train, epochs=15, validation_data=(X_test, y_test))"
      ],
      "execution_count": 66,
      "outputs": [
        {
          "output_type": "stream",
          "text": [
            "Train on 6400 samples, validate on 1600 samples\n",
            "Epoch 1/15\n",
            "6400/6400 [==============================] - 22s 3ms/step - loss: 0.6442 - acc: 0.7445 - val_loss: 0.4708 - val_acc: 0.8106\n",
            "Epoch 2/15\n",
            "6400/6400 [==============================] - 21s 3ms/step - loss: 0.4584 - acc: 0.8214 - val_loss: 0.4212 - val_acc: 0.8287\n",
            "Epoch 3/15\n",
            "6400/6400 [==============================] - 21s 3ms/step - loss: 0.3975 - acc: 0.8402 - val_loss: 0.3968 - val_acc: 0.8375\n",
            "Epoch 4/15\n",
            "6400/6400 [==============================] - 22s 3ms/step - loss: 0.3467 - acc: 0.8623 - val_loss: 0.3895 - val_acc: 0.8438\n",
            "Epoch 5/15\n",
            "6400/6400 [==============================] - 21s 3ms/step - loss: 0.3261 - acc: 0.8730 - val_loss: 0.3783 - val_acc: 0.8494\n",
            "Epoch 6/15\n",
            "6400/6400 [==============================] - 22s 3ms/step - loss: 0.2991 - acc: 0.8841 - val_loss: 0.3748 - val_acc: 0.8494\n",
            "Epoch 7/15\n",
            "6400/6400 [==============================] - 21s 3ms/step - loss: 0.2762 - acc: 0.8931 - val_loss: 0.3794 - val_acc: 0.8450\n",
            "Epoch 8/15\n",
            "6400/6400 [==============================] - 21s 3ms/step - loss: 0.2500 - acc: 0.9016 - val_loss: 0.3722 - val_acc: 0.8538\n",
            "Epoch 9/15\n",
            "6400/6400 [==============================] - 21s 3ms/step - loss: 0.2277 - acc: 0.9161 - val_loss: 0.3701 - val_acc: 0.8700\n",
            "Epoch 10/15\n",
            "6400/6400 [==============================] - 21s 3ms/step - loss: 0.2031 - acc: 0.9208 - val_loss: 0.3672 - val_acc: 0.8600\n",
            "Epoch 11/15\n",
            "6400/6400 [==============================] - 21s 3ms/step - loss: 0.1858 - acc: 0.9313 - val_loss: 0.4287 - val_acc: 0.8594\n",
            "Epoch 12/15\n",
            "6400/6400 [==============================] - 21s 3ms/step - loss: 0.1754 - acc: 0.9284 - val_loss: 0.4037 - val_acc: 0.8644\n",
            "Epoch 13/15\n",
            "6400/6400 [==============================] - 21s 3ms/step - loss: 0.1600 - acc: 0.9400 - val_loss: 0.4289 - val_acc: 0.8606\n",
            "Epoch 14/15\n",
            "6400/6400 [==============================] - 21s 3ms/step - loss: 0.1386 - acc: 0.9431 - val_loss: 0.4056 - val_acc: 0.8719\n",
            "Epoch 15/15\n",
            "6400/6400 [==============================] - 21s 3ms/step - loss: 0.1207 - acc: 0.9531 - val_loss: 0.4573 - val_acc: 0.8675\n"
          ],
          "name": "stdout"
        },
        {
          "output_type": "execute_result",
          "data": {
            "text/plain": [
              "<keras.callbacks.History at 0x7f9ff846a8d0>"
            ]
          },
          "metadata": {
            "tags": []
          },
          "execution_count": 66
        }
      ]
    },
    {
      "metadata": {
        "id": "3B5VJV0SL-GC",
        "colab_type": "text"
      },
      "cell_type": "markdown",
      "source": [
        "**Test data preprocessing **\n",
        "\n",
        "Now that the model has already been trained, we will use it to predict on test dataset. Before that we need to process the test data in the same way we have done with the training data by rescaling and reshaping."
      ]
    },
    {
      "metadata": {
        "id": "ezoaUX-oX7c4",
        "colab_type": "code",
        "colab": {}
      },
      "cell_type": "code",
      "source": [
        "test_X = np.asarray(test_X, dtype=None, order=None)\n",
        "test_image = []\n",
        "for i in range(test_X.shape[0]):\n",
        "  img = test_X[i].reshape(28,28,1)\n",
        "  img = img / 255;\n",
        "  test_image.append(img)\n",
        "test_X = np.array(test_image)\n"
      ],
      "execution_count": 0,
      "outputs": []
    },
    {
      "metadata": {
        "id": "KrON6XU5MzFh",
        "colab_type": "text"
      },
      "cell_type": "markdown",
      "source": [
        "** Predicting **\n",
        "\n",
        "The trained model will predict on the test dataset."
      ]
    },
    {
      "metadata": {
        "id": "zkSTm-CkyEg8",
        "colab_type": "code",
        "colab": {}
      },
      "cell_type": "code",
      "source": [
        "prediction = model.predict_classes(test_X)"
      ],
      "execution_count": 0,
      "outputs": []
    },
    {
      "metadata": {
        "id": "0MWl9XxrM6js",
        "colab_type": "text"
      },
      "cell_type": "markdown",
      "source": [
        "The classes that the model predicts are 0, 1, 2 and 3 corresponding to the required 0, 2, 3, 6. So the predicted values are adjusted accordingly."
      ]
    },
    {
      "metadata": {
        "id": "lS7f_muKyMKP",
        "colab_type": "code",
        "colab": {}
      },
      "cell_type": "code",
      "source": [
        "for i in range(len(prediction)):\n",
        "  if prediction[i]==1:\n",
        "    prediction[i] = 2\n",
        "  elif prediction[i] == 2:\n",
        "    prediction[i] = 3\n",
        "  elif prediction[i] == 3:\n",
        "    prediction[i] = 6"
      ],
      "execution_count": 0,
      "outputs": []
    },
    {
      "metadata": {
        "id": "-satW4HePojv",
        "colab_type": "text"
      },
      "cell_type": "markdown",
      "source": [
        "** Storing predictions **\n",
        "\n",
        "The predicted values are now put inside a pandas dataframe in order to facilitate saving to a csv files. The column representing image index values is named \"test_image_index\" and the column representing predicted classes has name \"predicted_class\" ."
      ]
    },
    {
      "metadata": {
        "id": "BVq_L9HxyQy4",
        "colab_type": "code",
        "outputId": "6a78071c-1ba2-45ef-f93a-51e0a7f4012d",
        "colab": {
          "base_uri": "https://localhost:8080/",
          "height": 1122
        }
      },
      "cell_type": "code",
      "source": [
        "df = pd.DataFrame(prediction)\n",
        "df.index.name=\"test_image_index\"\n",
        "df.columns=[\"predicted class\"]\n",
        "print(df)"
      ],
      "execution_count": 69,
      "outputs": [
        {
          "output_type": "stream",
          "text": [
            "                  predicted class\n",
            "test_image_index                 \n",
            "0                               0\n",
            "1                               0\n",
            "2                               0\n",
            "3                               0\n",
            "4                               0\n",
            "5                               0\n",
            "6                               0\n",
            "7                               0\n",
            "8                               0\n",
            "9                               0\n",
            "10                              0\n",
            "11                              0\n",
            "12                              0\n",
            "13                              0\n",
            "14                              0\n",
            "15                              0\n",
            "16                              0\n",
            "17                              0\n",
            "18                              0\n",
            "19                              0\n",
            "20                              0\n",
            "21                              0\n",
            "22                              0\n",
            "23                              0\n",
            "24                              0\n",
            "25                              0\n",
            "26                              0\n",
            "27                              0\n",
            "28                              0\n",
            "29                              0\n",
            "...                           ...\n",
            "1970                            6\n",
            "1971                            6\n",
            "1972                            6\n",
            "1973                            0\n",
            "1974                            6\n",
            "1975                            6\n",
            "1976                            6\n",
            "1977                            6\n",
            "1978                            6\n",
            "1979                            6\n",
            "1980                            6\n",
            "1981                            6\n",
            "1982                            6\n",
            "1983                            6\n",
            "1984                            3\n",
            "1985                            6\n",
            "1986                            6\n",
            "1987                            6\n",
            "1988                            6\n",
            "1989                            6\n",
            "1990                            6\n",
            "1991                            0\n",
            "1992                            6\n",
            "1993                            6\n",
            "1994                            3\n",
            "1995                            6\n",
            "1996                            6\n",
            "1997                            6\n",
            "1998                            6\n",
            "1999                            6\n",
            "\n",
            "[2000 rows x 1 columns]\n"
          ],
          "name": "stdout"
        }
      ]
    },
    {
      "metadata": {
        "id": "eoA4VNEvQYku",
        "colab_type": "text"
      },
      "cell_type": "markdown",
      "source": [
        "The created dataframe is now saved as a **.csv** file with name \"tryambak_bhattacharjee.csv\"\n",
        "\n",
        "\n"
      ]
    },
    {
      "metadata": {
        "id": "t86m2vUVbynz",
        "colab_type": "code",
        "colab": {}
      },
      "cell_type": "code",
      "source": [
        "df.to_csv('tryambak_bhattacharjee.csv')"
      ],
      "execution_count": 0,
      "outputs": []
    }
  ]
}